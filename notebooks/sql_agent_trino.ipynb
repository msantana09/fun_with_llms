{
 "cells": [
  {
   "cell_type": "markdown",
   "metadata": {},
   "source": [
    "# Q/A with OpenAI and Trino"
   ]
  },
  {
   "cell_type": "markdown",
   "metadata": {},
   "source": [
    "## Define Database Connection\n",
    "This is utilizing an AirBnB data set from the [toolkit use case](https://github.com/msantana09/data-engineering-toolkit/blob/main/UseCase.md)"
   ]
  },
  {
   "cell_type": "code",
   "execution_count": 19,
   "metadata": {},
   "outputs": [
    {
     "name": "stderr",
     "output_type": "stream",
     "text": [
      "/Users/miguel/Documents/jobs/fun_with_llms/.venv/lib/python3.9/site-packages/langchain_community/utilities/sql_database.py:111: SAWarning: index key 'record_count' was not located in columns for table 'listings'\n",
      "  self._metadata.reflect(\n",
      "/Users/miguel/Documents/jobs/fun_with_llms/.venv/lib/python3.9/site-packages/langchain_community/utilities/sql_database.py:111: SAWarning: index key 'file_count' was not located in columns for table 'listings'\n",
      "  self._metadata.reflect(\n",
      "/Users/miguel/Documents/jobs/fun_with_llms/.venv/lib/python3.9/site-packages/langchain_community/utilities/sql_database.py:111: SAWarning: index key 'total_size' was not located in columns for table 'listings'\n",
      "  self._metadata.reflect(\n",
      "/Users/miguel/Documents/jobs/fun_with_llms/.venv/lib/python3.9/site-packages/langchain_community/utilities/sql_database.py:111: SAWarning: index key 'data' was not located in columns for table 'listings'\n",
      "  self._metadata.reflect(\n",
      "/Users/miguel/Documents/jobs/fun_with_llms/.venv/lib/python3.9/site-packages/langchain_community/utilities/sql_database.py:111: SAWarning: index key 'record_count' was not located in columns for table 'reviews'\n",
      "  self._metadata.reflect(\n",
      "/Users/miguel/Documents/jobs/fun_with_llms/.venv/lib/python3.9/site-packages/langchain_community/utilities/sql_database.py:111: SAWarning: index key 'file_count' was not located in columns for table 'reviews'\n",
      "  self._metadata.reflect(\n",
      "/Users/miguel/Documents/jobs/fun_with_llms/.venv/lib/python3.9/site-packages/langchain_community/utilities/sql_database.py:111: SAWarning: index key 'total_size' was not located in columns for table 'reviews'\n",
      "  self._metadata.reflect(\n",
      "/Users/miguel/Documents/jobs/fun_with_llms/.venv/lib/python3.9/site-packages/langchain_community/utilities/sql_database.py:111: SAWarning: index key 'data' was not located in columns for table 'reviews'\n",
      "  self._metadata.reflect(\n"
     ]
    }
   ],
   "source": [
    "from langchain.sql_database import SQLDatabase\n",
    "from sqlalchemy import create_engine\n",
    "\n",
    "URI = 'trino://trino@localhost:8082/lakehouse/kaggle_airbnb'\n",
    "OPENAI_MODEL = \"gpt-3.5-turbo\"\n",
    "\n",
    "engine = create_engine(URI)\n",
    "db =SQLDatabase(engine=engine )\n"
   ]
  },
  {
   "cell_type": "markdown",
   "metadata": {},
   "source": [
    "### Define LLM and SQL Agent"
   ]
  },
  {
   "cell_type": "code",
   "execution_count": 20,
   "metadata": {},
   "outputs": [],
   "source": [
    "from langchain_community.agent_toolkits import create_sql_agent\n",
    "from langchain_openai import ChatOpenAI\n",
    "\n",
    "llm = ChatOpenAI(model=OPENAI_MODEL, temperature=0)\n",
    "sql_agent = create_sql_agent(llm, db=db, agent_type=\"openai-tools\", verbose=True)"
   ]
  },
  {
   "cell_type": "markdown",
   "metadata": {},
   "source": [
    "### Test it out"
   ]
  },
  {
   "cell_type": "code",
   "execution_count": 21,
   "metadata": {},
   "outputs": [
    {
     "name": "stdout",
     "output_type": "stream",
     "text": [
      "\n",
      "\n",
      "\u001b[1m> Entering new AgentExecutor chain...\u001b[0m\n",
      "\u001b[32;1m\u001b[1;3m\n",
      "Invoking: `sql_db_list_tables` with `{}`\n",
      "\n",
      "\n",
      "\u001b[0m\u001b[38;5;200m\u001b[1;3mlistings, reviews\u001b[0m\u001b[32;1m\u001b[1;3m\n",
      "Invoking: `sql_db_schema` with `reviews`\n",
      "\n",
      "\n",
      "\u001b[0m\u001b[33;1m\u001b[1;3m\n",
      "CREATE TABLE reviews (\n",
      "\tlisting_id INTEGER, \n",
      "\tid INTEGER, \n",
      "\tdate DATE, \n",
      "\treviewer_id INTEGER, \n",
      "\treviewer_name VARCHAR, \n",
      "\tcomments VARCHAR\n",
      ")\n",
      "\n",
      "/*\n",
      "3 rows from reviews table:\n",
      "listing_id\tid\tdate\treviewer_id\treviewer_name\tcomments\n",
      "7202016\t38917982\t2015-07-19\t28943674\tBianca\tCute and cozy place. Perfect location to everything!\n",
      "7202016\t39087409\t2015-07-20\t32440555\tFrank\tKelly has a great room in a very central location. \n",
      "Beautiful building , architecture and a style t\n",
      "7202016\t39820030\t2015-07-26\t37722850\tIan\tVery spacious apartment, and in a great neighborhood.  This is the kind of apartment I wish I had!\n",
      "\n",
      "*/\u001b[0m\u001b[32;1m\u001b[1;3m\n",
      "Invoking: `sql_db_query` with `SELECT listing_id, AVG(rating) AS avg_rating FROM reviews GROUP BY listing_id ORDER BY avg_rating DESC LIMIT 10`\n",
      "\n",
      "\n",
      "\u001b[0m\u001b[36;1m\u001b[1;3mError: (trino.exceptions.TrinoUserError) TrinoUserError(type=USER_ERROR, name=COLUMN_NOT_FOUND, message=\"line 1:24: Column 'rating' cannot be resolved\", query_id=20240124_215458_00269_uqjme)\n",
      "[SQL: SELECT listing_id, AVG(rating) AS avg_rating FROM reviews GROUP BY listing_id ORDER BY avg_rating DESC LIMIT 10]\n",
      "(Background on this error at: https://sqlalche.me/e/20/f405)\u001b[0m\u001b[32;1m\u001b[1;3m\n",
      "Invoking: `sql_db_schema` with `listings`\n",
      "\n",
      "\n",
      "\u001b[0m\u001b[33;1m\u001b[1;3m\n",
      "CREATE TABLE listings (\n",
      "\tid INTEGER, \n",
      "\tname VARCHAR, \n",
      "\tsummary VARCHAR, \n",
      "\tspace VARCHAR, \n",
      "\tdescription VARCHAR, \n",
      "\texperiences_offered VARCHAR, \n",
      "\tneighborhood_overview VARCHAR, \n",
      "\tnotes VARCHAR, \n",
      "\ttransit VARCHAR, \n",
      "\thost_id INTEGER, \n",
      "\thost_name VARCHAR, \n",
      "\thost_since DATE, \n",
      "\thost_location VARCHAR, \n",
      "\thost_about VARCHAR, \n",
      "\thost_response_time VARCHAR, \n",
      "\thost_response_rate VARCHAR, \n",
      "\thost_acceptance_rate VARCHAR, \n",
      "\thost_is_superhost BOOLEAN, \n",
      "\thost_neighbourhood VARCHAR, \n",
      "\thost_listings_count INTEGER, \n",
      "\thost_total_listings_count INTEGER, \n",
      "\thost_verifications VARCHAR, \n",
      "\thost_has_profile_pic BOOLEAN, \n",
      "\thost_identity_verified BOOLEAN, \n",
      "\tstreet VARCHAR, \n",
      "\tneighbourhood VARCHAR, \n",
      "\tneighbourhood_cleansed VARCHAR, \n",
      "\tneighbourhood_group_cleansed VARCHAR, \n",
      "\tcity VARCHAR, \n",
      "\tstate VARCHAR, \n",
      "\tzipcode VARCHAR, \n",
      "\tmarket VARCHAR, \n",
      "\tsmart_location VARCHAR, \n",
      "\tcountry_code VARCHAR, \n",
      "\tcountry VARCHAR, \n",
      "\tlatitude DOUBLE, \n",
      "\tlongitude DOUBLE, \n",
      "\tis_location_exact BOOLEAN, \n",
      "\tproperty_type VARCHAR, \n",
      "\troom_type VARCHAR, \n",
      "\taccommodates INTEGER, \n",
      "\tbathrooms DOUBLE, \n",
      "\tbedrooms INTEGER, \n",
      "\tbeds INTEGER, \n",
      "\tbed_type VARCHAR, \n",
      "\tamenities VARCHAR, \n",
      "\tsquare_feet INTEGER, \n",
      "\tprice DOUBLE, \n",
      "\tweekly_price DOUBLE, \n",
      "\tmonthly_price DOUBLE, \n",
      "\tsecurity_deposit DOUBLE, \n",
      "\tcleaning_fee DOUBLE, \n",
      "\tguests_included INTEGER, \n",
      "\textra_people DOUBLE, \n",
      "\tminimum_nights INTEGER, \n",
      "\tmaximum_nights INTEGER, \n",
      "\tcalendar_updated VARCHAR, \n",
      "\thas_availability BOOLEAN, \n",
      "\tavailability_30 INTEGER, \n",
      "\tavailability_60 INTEGER, \n",
      "\tavailability_90 INTEGER, \n",
      "\tavailability_365 INTEGER, \n",
      "\tnumber_of_reviews INTEGER, \n",
      "\tfirst_review DATE, \n",
      "\tlast_review DATE, \n",
      "\treview_scores_rating INTEGER, \n",
      "\treview_scores_accuracy INTEGER, \n",
      "\treview_scores_cleanliness INTEGER, \n",
      "\treview_scores_checkin INTEGER, \n",
      "\treview_scores_communication INTEGER, \n",
      "\treview_scores_location INTEGER, \n",
      "\treview_scores_value INTEGER, \n",
      "\tjurisdiction_names VARCHAR, \n",
      "\tinstant_bookable BOOLEAN, \n",
      "\tcancellation_policy VARCHAR, \n",
      "\trequire_guest_profile_picture BOOLEAN, \n",
      "\trequire_guest_phone_verification BOOLEAN, \n",
      "\tcalculated_host_listings_count INTEGER, \n",
      "\treviews_per_month DOUBLE\n",
      ")\n",
      "\n",
      "/*\n",
      "3 rows from listings table:\n",
      "id\tname\tsummary\tspace\tdescription\texperiences_offered\tneighborhood_overview\tnotes\ttransit\thost_id\thost_name\thost_since\thost_location\thost_about\thost_response_time\thost_response_rate\thost_acceptance_rate\thost_is_superhost\thost_neighbourhood\thost_listings_count\thost_total_listings_count\thost_verifications\thost_has_profile_pic\thost_identity_verified\tstreet\tneighbourhood\tneighbourhood_cleansed\tneighbourhood_group_cleansed\tcity\tstate\tzipcode\tmarket\tsmart_location\tcountry_code\tcountry\tlatitude\tlongitude\tis_location_exact\tproperty_type\troom_type\taccommodates\tbathrooms\tbedrooms\tbeds\tbed_type\tamenities\tsquare_feet\tprice\tweekly_price\tmonthly_price\tsecurity_deposit\tcleaning_fee\tguests_included\textra_people\tminimum_nights\tmaximum_nights\tcalendar_updated\thas_availability\tavailability_30\tavailability_60\tavailability_90\tavailability_365\tnumber_of_reviews\tfirst_review\tlast_review\treview_scores_rating\treview_scores_accuracy\treview_scores_cleanliness\treview_scores_checkin\treview_scores_communication\treview_scores_location\treview_scores_value\tjurisdiction_names\tinstant_bookable\tcancellation_policy\trequire_guest_profile_picture\trequire_guest_phone_verification\tcalculated_host_listings_count\treviews_per_month\n",
      "241032\tStylish Queen Anne Apartment\tNone\tMake your self at home in this charming one-bedroom apartment, centrally-located on the west side of\tMake your self at home in this charming one-bedroom apartment, centrally-located on the west side of\tnone\tNone\tNone\tNone\t956883\tMaija\t2011-08-11\tSeattle, Washington, United States\tI am an artist, interior designer, and run a small landscape business. My life revolves around beaut\twithin a few hours\t96%\t100%\tFalse\tQueen Anne\t3\t3\t['email', 'phone', 'reviews', 'kba']\tTrue\tTrue\tGilman Dr W, Seattle, WA 98119, United States\tQueen Anne\tWest Queen Anne\tQueen Anne\tSeattle\tWA\t98119\tSeattle\tSeattle, WA\tUS\tUnited States\t47.636289038357184\t-122.37102519997765\tTrue\tApartment\tEntire home/apt\t4\t1.0\t1\t1\tReal Bed\t{TV,\"Cable TV\",Internet,\"Wireless Internet\",\"Air Conditioning\",Kitchen,Heating,\"Family/Kid Friendly\"\tNone\t85.0\tNone\tNone\tNone\tNone\t2\t5.0\t1\t365\t4 weeks ago\tTrue\t14\t41\t71\t346\t207\t2011-11-01\t2016-01-02\t95\t10\t10\t10\t10\t9\t10\tWASHINGTON\tFalse\tmoderate\tFalse\tFalse\t2\t4.07\n",
      "953595\tBright & Airy Queen Anne Apartment\tChemically sensitive? We've removed the irritants triggering allergy or asthma attacks, like carpeti\tBeautiful, hypoallergenic apartment in an extremely safe, quiet and pedestrian-friendly section of Q\tChemically sensitive? We've removed the irritants triggering allergy or asthma attacks, like carpeti\tnone\tQueen Anne is a wonderful, truly functional village.  You can walk everywhere... for coffee, for gro\tWhat's up with the free pillows?  Our home was renovated and restored with health & safety in mind, \tConvenient bus stops are just down the block, if you're headed downtown or further afield to explore\t5177328\tAndrea\t2013-02-21\tSeattle, Washington, United States\tLiving east coast/left coast/overseas.  Time is short & it's a big world.\twithin an hour\t98%\t100%\tTrue\tQueen Anne\t6\t6\t['email', 'phone', 'facebook', 'linkedin', 'reviews', 'jumio']\tTrue\tTrue\t7th Avenue West, Seattle, WA 98119, United States\tQueen Anne\tWest Queen Anne\tQueen Anne\tSeattle\tWA\t98119\tSeattle\tSeattle, WA\tUS\tUnited States\t47.63912312136253\t-122.36566646439582\tTrue\tApartment\tEntire home/apt\t4\t1.0\t1\t1\tReal Bed\t{TV,Internet,\"Wireless Internet\",Kitchen,\"Free Parking on Premises\",\"Buzzer/Wireless Intercom\",Heati\tNone\t150.0\t1000.0\t3000.0\t100.0\t40.0\t1\t0.0\t2\t90\ttoday\tTrue\t13\t13\t16\t291\t43\t2013-08-19\t2015-12-29\t96\t10\t10\t10\t10\t10\t10\tWASHINGTON\tFalse\tstrict\tTrue\tTrue\t6\t1.48\n",
      "3308979\tNew Modern House-Amazing water view\tNew modern house built in 2013.  Spectacular sunset/water views and light, rooftop deck and lounge a\tOur house is modern, light and fresh with a warm simple palette accented with barnwood, steel and co\tNew modern house built in 2013.  Spectacular sunset/water views and light, rooftop deck and lounge a\tnone\tUpper Queen Anne is a charming neighborhood full of a mix of beautifully maintained, turn-of-the-cen\tOur house is located just 5 short blocks to Top Pot Doughnuts, Tribunali pizza, Caffe Fiore, Trader \tA bus stop is just 2 blocks away.   Easy bus access to all the sites: Lower Queen Anne, Seattle Cent\t16708587\tJill\t2014-06-12\tSeattle, Washington, United States\ti love living in Seattle.  i grew up in the mid-west but the Pacific North West has always felt like\twithin a few hours\t67%\t100%\tFalse\tQueen Anne\t2\t2\t['email', 'phone', 'google', 'reviews', 'jumio']\tTrue\tTrue\tWest Lee Street, Seattle, WA 98119, United States\tQueen Anne\tWest Queen Anne\tQueen Anne\tSeattle\tWA\t98119\tSeattle\tSeattle, WA\tUS\tUnited States\t47.629724131577355\t-122.3694831756176\tTrue\tHouse\tEntire home/apt\t11\t4.5\t5\t7\tReal Bed\t{TV,\"Cable TV\",Internet,\"Wireless Internet\",\"Air Conditioning\",Kitchen,\"Free Parking on Premises\",\"P\tNone\t975.0\tNone\tNone\t1000.0\t300.0\t10\t25.0\t4\t30\t5 weeks ago\tTrue\t1\t6\t17\t220\t20\t2014-07-30\t2015-09-03\t97\t10\t10\t10\t10\t10\t10\tWASHINGTON\tFalse\tstrict\tFalse\tFalse\t2\t1.15\n",
      "*/\u001b[0m\u001b[32;1m\u001b[1;3m\n",
      "Invoking: `sql_db_query` with `SELECT neighbourhood, AVG(review_scores_rating) AS avg_rating FROM listings GROUP BY neighbourhood ORDER BY avg_rating DESC LIMIT 10`\n",
      "\n",
      "\n",
      "\u001b[0m\u001b[36;1m\u001b[1;3m[('Arbor Heights', 98.0), ('High Point', 97.75), ('Windermere', 97.5), ('Yesler Terrace', 97.45454545454545), ('Harrison/Denny-Blaine', 97.18181818181819), ('Madrona', 97.15151515151516), ('Genesee', 96.84615384615384), ('Montlake', 96.8125), ('Gatewood', 96.76923076923077), ('Westlake', 96.5)]\u001b[0m\u001b[32;1m\u001b[1;3mThe neighborhood with the best reviews is Arbor Heights, with an average rating of 98.0.\u001b[0m\n",
      "\n",
      "\u001b[1m> Finished chain.\u001b[0m\n",
      "The neighborhood with the best reviews is Arbor Heights, with an average rating of 98.0.\n"
     ]
    }
   ],
   "source": [
    "response = sql_agent.invoke(\n",
    "    \"Which neighborhood has the best reviews?\"\n",
    ")\n",
    "print(response['output'])"
   ]
  }
 ],
 "metadata": {
  "kernelspec": {
   "display_name": ".venv",
   "language": "python",
   "name": "python3"
  },
  "language_info": {
   "codemirror_mode": {
    "name": "ipython",
    "version": 3
   },
   "file_extension": ".py",
   "mimetype": "text/x-python",
   "name": "python",
   "nbconvert_exporter": "python",
   "pygments_lexer": "ipython3",
   "version": "3.9.6"
  }
 },
 "nbformat": 4,
 "nbformat_minor": 2
}
