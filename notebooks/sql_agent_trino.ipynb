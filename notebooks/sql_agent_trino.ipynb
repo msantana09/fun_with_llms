{
 "cells": [
  {
   "cell_type": "markdown",
   "metadata": {},
   "source": [
    "# Q/A with OpenAI and Trino"
   ]
  },
  {
   "cell_type": "markdown",
   "metadata": {},
   "source": [
    "## Define Database Connection\n",
    "This is utilizing an AirBnB data set from the [toolkit use case](https://github.com/msantana09/data-engineering-toolkit/blob/main/UseCase.md)"
   ]
  },
  {
   "cell_type": "code",
   "execution_count": 7,
   "metadata": {},
   "outputs": [
    {
     "name": "stderr",
     "output_type": "stream",
     "text": [
      "/Users/miguel/projects/fun_with_llms/.venv/lib/python3.9/site-packages/langchain_community/utilities/sql_database.py:111: SAWarning: index key 'record_count' was not located in columns for table 'listings'\n",
      "  self._metadata.reflect(\n",
      "/Users/miguel/projects/fun_with_llms/.venv/lib/python3.9/site-packages/langchain_community/utilities/sql_database.py:111: SAWarning: index key 'file_count' was not located in columns for table 'listings'\n",
      "  self._metadata.reflect(\n",
      "/Users/miguel/projects/fun_with_llms/.venv/lib/python3.9/site-packages/langchain_community/utilities/sql_database.py:111: SAWarning: index key 'total_size' was not located in columns for table 'listings'\n",
      "  self._metadata.reflect(\n",
      "/Users/miguel/projects/fun_with_llms/.venv/lib/python3.9/site-packages/langchain_community/utilities/sql_database.py:111: SAWarning: index key 'data' was not located in columns for table 'listings'\n",
      "  self._metadata.reflect(\n",
      "/Users/miguel/projects/fun_with_llms/.venv/lib/python3.9/site-packages/langchain_community/utilities/sql_database.py:111: SAWarning: index key 'record_count' was not located in columns for table 'reviews'\n",
      "  self._metadata.reflect(\n",
      "/Users/miguel/projects/fun_with_llms/.venv/lib/python3.9/site-packages/langchain_community/utilities/sql_database.py:111: SAWarning: index key 'file_count' was not located in columns for table 'reviews'\n",
      "  self._metadata.reflect(\n",
      "/Users/miguel/projects/fun_with_llms/.venv/lib/python3.9/site-packages/langchain_community/utilities/sql_database.py:111: SAWarning: index key 'total_size' was not located in columns for table 'reviews'\n",
      "  self._metadata.reflect(\n",
      "/Users/miguel/projects/fun_with_llms/.venv/lib/python3.9/site-packages/langchain_community/utilities/sql_database.py:111: SAWarning: index key 'data' was not located in columns for table 'reviews'\n",
      "  self._metadata.reflect(\n"
     ]
    }
   ],
   "source": [
    "from langchain.sql_database import SQLDatabase\n",
    "from sqlalchemy import create_engine\n",
    "\n",
    "URI = 'trino://trino@localhost:8082/lakehouse/kaggle_airbnb'\n",
    "OPENAI_MODEL = \"gpt-3.5-turbo\"\n",
    "\n",
    "engine = create_engine(URI)\n",
    "db =SQLDatabase(engine=engine )\n"
   ]
  },
  {
   "cell_type": "markdown",
   "metadata": {},
   "source": [
    "### Define LLM and SQL Agent"
   ]
  },
  {
   "cell_type": "code",
   "execution_count": 8,
   "metadata": {},
   "outputs": [],
   "source": [
    "from langchain_community.agent_toolkits import create_sql_agent\n",
    "from langchain_openai import ChatOpenAI\n",
    "\n",
    "llm = ChatOpenAI(model=OPENAI_MODEL, temperature=0)\n",
    "sql_agent = create_sql_agent(llm, db=db, agent_type=\"openai-tools\", verbose=False)"
   ]
  },
  {
   "cell_type": "markdown",
   "metadata": {},
   "source": [
    "### Test it out"
   ]
  },
  {
   "cell_type": "code",
   "execution_count": 9,
   "metadata": {},
   "outputs": [
    {
     "name": "stdout",
     "output_type": "stream",
     "text": [
      "The neighborhood with the best reviews is Arbor Heights, with an average rating of 98.0.\n"
     ]
    }
   ],
   "source": [
    "response = sql_agent.invoke(\n",
    "    \"Which neighborhood has the best reviews?\"\n",
    ")\n",
    "print(response['output'])"
   ]
  }
 ],
 "metadata": {
  "kernelspec": {
   "display_name": ".venv",
   "language": "python",
   "name": "python3"
  },
  "language_info": {
   "codemirror_mode": {
    "name": "ipython",
    "version": 3
   },
   "file_extension": ".py",
   "mimetype": "text/x-python",
   "name": "python",
   "nbconvert_exporter": "python",
   "pygments_lexer": "ipython3",
   "version": "3.9.6"
  }
 },
 "nbformat": 4,
 "nbformat_minor": 2
}
